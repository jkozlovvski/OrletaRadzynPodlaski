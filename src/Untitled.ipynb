{
 "cells": [
  {
   "cell_type": "code",
   "execution_count": 1,
   "id": "17b7522c",
   "metadata": {},
   "outputs": [],
   "source": [
    "import numpy as np\n",
    "import pandas as pd"
   ]
  },
  {
   "cell_type": "code",
   "execution_count": 40,
   "id": "5d35c1f1",
   "metadata": {},
   "outputs": [],
   "source": [
    "some_object = pd.read_pickle('../hackathon/train_set_ocr.pkl')"
   ]
  },
  {
   "cell_type": "code",
   "execution_count": 48,
   "id": "e6761e23",
   "metadata": {},
   "outputs": [
    {
     "data": {
      "text/plain": [
       "'POLA Lalwe poda PODATNIK POLA , CIEMNE _ URZAD NIP / numer ESEL Iriebolzat d) LITERAMI siese) podatnika LUB NIEBIESKIM L 4   1 3. Nr \\'dokumentu wersji € Identyfikator Pnw podatkigov p/ 5\\'numer5 6854453111 Status PIT-37 Prawldlowe wypelnienie formulrza thami  \\'wczesnlesze zapoznanie się urzędach 0 WYSOKOŚCI DOCHODU W roku ! Rok Formularz [ przezoaczony jest dla podatnlków, \"ze źródeł polozonych r którzy , roku podal 2)nie prowacziW poczroi za pośredhichwiem patnson| Rzeczypospolitej dziaralnosci \\'Iub innych podmiolow  podalkowej Igospodarczej oraz \\'sporządzenia Zasadach przy zas nle 5ą doliczac \\'specjalhych produkci rchez wysokości slosowaniu skali 4) nie obnizala  uzyskanych € [opodatkowanych na ogólnych hych dochodóiw (przxchodów) 5)nie odliczaja _ straly z lat L \\'dochodów maldletnich = zasadach Pxzy zaslosowaniu skati  podatku , prawna; Art 45ust zdnia 26 lipca 1991 Termin składania: późn. zm;) dalei rodalku adosób Od dnia 15 lutego fzycznych (Dz U.2 2021 poz . 1128, Miejsce do dnia 30 kwietnia \\'skladania: rOku _ Wybór którym mowa w art 45 po roku \\'zZastrzezeniem sposobu  opodatkowania dalei art; 45 ust; (zaznaczyc Wasciwe \"Urzędem\\' wsrchie zqounie Vinicskiem , mowva sposób przewidziany wait, Usta wy Ola wdów wdowców W Sposcb przel dia cscb samotnie sposób \\'Przewidziany w art 29 wychowujacych azied podatnik odpowiednich wsposob \\' pzevadziany w ard zaznacza się lącznie - Kakluje się na równi ze zoceniem  29 ust, ustawy alco Foz zastosowanie sposobu opodalkowania A MIEJSCE I CEL poz 7 lub 8 Urząd, do zeznanie Otwocku 10.Cel zlozenia (zaznaczyc Masciwy  Rodzaj zlozerie zeznania Kwadral ) zeznania zeznania , kiórej wart pcdalkowej\" zeznania B opodal toku pcstepowvania _ DANED (kowania; której mowa art, 816 $ spravie W poz, zaznaczono podalkowej?) kwadrat nr 3 nr 2 adres zamieszkania mazonka ADRES ZAMIESZKANIAF Poz 27-35 jest laki jak w cześci B1; poz \\'wypelhiac;, jezeli B.1. DANE PODATNIKA 27-35 nie vypelnia s1ę, jezel poz 6 PASTELSKA PlTaxpl  JASNE VYPELMIAF WYPELNIA L \\'Identyflkator WYPEŁNIC CUZYML podatkowy CRLXOWANYM [ CZARNYM | Skledarle \\'KOlOReI clektronlcznel: podatkowwy ESEL lacounctne 07s € malzonka 3959540906 broszura informacyina dostepna { ZEZNANIE ( OSIĄGNIĘTEGO  (PONIESIONEJ STRATY) podatkowym 1J uzyyskali [ pZychody > podatkowym: owe]) \\' leryioruum  Polskie {podlegay pozaroiniczej) opodatkowanu oboliazanycn ( ogcinych = dzialów iniennej iniormaq) obowiazani  cochodaw dochocow ( ubieghch, Ozeci , mirimainego cochodowego. Podstawna  uslawy - cochodowym € zxanej ustawa następujacego Urząd, podatkowym, usławy , Zwany  ustawy. kadratyk indyiduarie \\'mdzokiem, Morym  maziany ustawy Zaznaczenie ( kwadra €w kwadralem malzcnek Wniosku Wskazanego : Kwadrat w SKŁADANIA = ZEZNANIA ktorego ) adresowane = Urzad 5 Skarbowy \\' formularza kwadral}; korekty {zaznaczyc ) Własciwy kcrekla kcrekla mowa Ordynacji | korekla  shadana unikafha pocal onego ! IDENTYFIKACYJNE Ordynacy F AKTUALNY kwadrat zaznaczono mozna Nazwisko'"
      ]
     },
     "execution_count": 48,
     "metadata": {},
     "output_type": "execute_result"
    }
   ],
   "source": [
    "some_object['test_hashed\\pit37_v1\\9d6f61c6-52ad-4546-85b7-b6a0a30a21d5.jpg']"
   ]
  },
  {
   "cell_type": "code",
   "execution_count": 49,
   "id": "1e6a8c56",
   "metadata": {},
   "outputs": [],
   "source": [
    "labels = pd.read_pickle('../hackathon/train_labels_final.pkl')"
   ]
  },
  {
   "cell_type": "code",
   "execution_count": 50,
   "id": "13f4d4be",
   "metadata": {},
   "outputs": [
    {
     "data": {
      "text/plain": [
       "'pit37_v1'"
      ]
     },
     "execution_count": 50,
     "metadata": {},
     "output_type": "execute_result"
    }
   ],
   "source": [
    "labels['test_hashed\\pit37_v1\\9d6f61c6-52ad-4546-85b7-b6a0a30a21d5.jpg']"
   ]
  },
  {
   "cell_type": "code",
   "execution_count": 37,
   "id": "7aa44e3c",
   "metadata": {},
   "outputs": [],
   "source": [
    "labels = pd.read_csv('../hackathon/train_ids_final.csv', delimiter=',')"
   ]
  },
  {
   "cell_type": "code",
   "execution_count": 12,
   "id": "614020be",
   "metadata": {},
   "outputs": [],
   "source": [
    "from dataclass import text_dataset_train"
   ]
  },
  {
   "cell_type": "code",
   "execution_count": 9,
   "id": "c3ea1eb7",
   "metadata": {},
   "outputs": [
    {
     "ename": "NameError",
     "evalue": "name 'pd' is not defined",
     "output_type": "error",
     "traceback": [
      "\u001b[0;31m---------------------------------------------------------------------------\u001b[0m",
      "\u001b[0;31mNameError\u001b[0m                                 Traceback (most recent call last)",
      "Cell \u001b[0;32mIn[9], line 1\u001b[0m\n\u001b[0;32m----> 1\u001b[0m labels \u001b[38;5;241m=\u001b[39m \u001b[43mpd\u001b[49m\u001b[38;5;241m.\u001b[39mread_pickle(\u001b[38;5;124m'\u001b[39m\u001b[38;5;124m../hackathon/train_labels_final.pkl\u001b[39m\u001b[38;5;124m'\u001b[39m)\n",
      "\u001b[0;31mNameError\u001b[0m: name 'pd' is not defined"
     ]
    }
   ],
   "source": [
    "labels = pd.read_pickle('../hackathon/train_labels_final.pkl')"
   ]
  },
  {
   "cell_type": "code",
   "execution_count": 11,
   "id": "571ca25b",
   "metadata": {},
   "outputs": [
    {
     "data": {
      "text/plain": [
       "('PlTaxpl POUA \\'WYPELNIA PODATNIK POLA CIEMNE WYPELNIA URZAD WYPELNIĆ DUŻYM DRUKONANYM LTERAM CZARNYMOLUQ NIEBIESKIKOLOREH JASNE Skladanie wersji clektroniczner WWw podatkl gov pI Lole 0oo Status podatkowy NIP / numer PESEL [podatnika 3, Nr dokumontu Identylikator 1 1 5203467374 1785518343 2 Identyflkator podatkowy NIP numor PESEL malzonka Prawidlowe wypelnienie formularza ulatwi wczesniejsze zapoznanie się : broszura Informacyina dostepna urzedach PIT-37 ZEZNANIE 0 WYSOKOŚCI OSIĄGNIĘTEGO DOCHODU (PONIESIONEJ STRATY) Rok W roku podatkowym Formularz przeznaczony Jest dla podatników którzy w roku podalkowym: zasadach przy zaslosowaniu \\'przpznocyce zrodel polozonych na terytonum Rzeczypospolitej Polskie] (podegalace opoeatkowennena tmavch tych dochodow (przychodow) Wacznie za postedniciwem patnikow Jub innych podmiolow abowazanych do sporzadzenia mmiennei inlormacn o wsadsac iskali podalxowell diZedlalosci gospodarczej oraz dZalów speqjalnych produkcji rolne} opodatkowanych na ogólnych zasadach przy zastosowaniu 2)nie prowadzili pozarolniczel podatkowe) 3) ne są obowiazani doliczac do uzyskanych dochodów dochodów maldletnich dzieci , 4) nle obnizala dochodow_ straly z lat ubieghych , 5) nie odliczaja Lzwminimalnego podatku dochodowiego 1128, Art 45usL ustawy z dnia 26 lpca 1991 , podatku dochodowm od osob fzycznych (Dz U.z.2021 pOZ Podstawa prawna: późn. zm ) zwanej dalel .ustawa Od dnia 15 lutego do dnia 30 kwetnia roku następujacego po roku podalkowym, z zastrzezeniem art 45 ust; 7 usławy  Termin skladania: Miejsce skladania: Urząd ; 0 którym mowa w art 45 uslawy , zwany dalej urzędem . Wybor sposobu opodatkowanla (zaznaczyc wasciwe kwadraly): indykidualnie 2 wspohie z malzonkiem 3.W sposob przewidziany wsposcb pzewidziany zqoanie wnioskiem , dla wdow / WdowCow dla osob samolnie Wchowulacych dziea kiorym mowa Wart 6 ust ustawy W sposob przewidziany w art 29 ust Ustawy malzonek przewidziany w art 29 ust ustawy = podatnik fowni ze zlozeniem wniosku  zastosowanie wskazanego sposobu opodatkowania Kwadrat w poz 7 lub 8 Zaznaczenie odpowiednich kwadralów traktuje się na zaznacza slęlacznie kwadratem 2,Jalbo W poz 6 A MIEJSCE | CEL SKŁADANIA ZEZNANIA Urzad; do kforogo Jest adresowane zeznanie Urzad Skarbowy w Slupsku 10. Col zlozonia formularza (zaznaczyc wasciwy kwadrat): Rodza] Rorekty (zaznaczyc wasciwy kwadral} zeznania klore] mowa art 81 Ordynacji podalkowej \" zlozene zeznania x 2 korekla zeznania podalkowego sprawie 2 korekta zeznania skladana loku postepowania unikania opodatkowania  które] mowa w art 81b $ 1a Ordynac  podalkower? ) B. DANE IDENTYFIKACYJNE | AKTUALNY ADRES ZAMIESZKANIA Poz,27 35 moitna nie wgzehiacp8ż6 zamieszkania mabzonka jest taki jak w części B.1; poz: 27.-35 nie wypełnia się, jeteli w poz 6 poz 6 zaznaczono kwadrat nr 2 adres zaznaczono kwadrat nr 3. B.1. DANE PODATNIKA 13Plorwvsze Imie Data urodzenla (dzen - miesiac - rOk) skak uzyskalL Sposob korekta ',\n",
       " 10)"
      ]
     },
     "execution_count": 11,
     "metadata": {},
     "output_type": "execute_result"
    }
   ],
   "source": [
    "text_dataset_train[1]"
   ]
  },
  {
   "cell_type": "code",
   "execution_count": null,
   "id": "fdd8e7f2",
   "metadata": {},
   "outputs": [],
   "source": []
  }
 ],
 "metadata": {
  "kernelspec": {
   "display_name": "Python 3 (ipykernel)",
   "language": "python",
   "name": "python3"
  },
  "language_info": {
   "codemirror_mode": {
    "name": "ipython",
    "version": 3
   },
   "file_extension": ".py",
   "mimetype": "text/x-python",
   "name": "python",
   "nbconvert_exporter": "python",
   "pygments_lexer": "ipython3",
   "version": "3.9.6"
  }
 },
 "nbformat": 4,
 "nbformat_minor": 5
}
